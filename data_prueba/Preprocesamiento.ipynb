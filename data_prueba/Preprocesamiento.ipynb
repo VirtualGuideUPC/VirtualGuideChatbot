{
 "cells": [
  {
   "cell_type": "markdown",
   "metadata": {},
   "source": [
    "# Preprocesamiento de la Data de Muestra\n",
    "\n",
    "Este notebook preprocesa el archivo excel recibido como recurso en la reunión, \n",
    "convirtiéndolo a DataFrame de Pandas y almacenando la data para facilitar las consultas."
   ]
  },
  {
   "cell_type": "code",
   "execution_count": 1,
   "metadata": {},
   "outputs": [],
   "source": [
    "import numpy as np\n",
    "import pandas as pd"
   ]
  },
  {
   "cell_type": "markdown",
   "metadata": {},
   "source": [
    "## Fun facts"
   ]
  },
  {
   "cell_type": "code",
   "execution_count": 9,
   "metadata": {},
   "outputs": [
    {
     "data": {
      "text/html": [
       "<div>\n",
       "<style scoped>\n",
       "    .dataframe tbody tr th:only-of-type {\n",
       "        vertical-align: middle;\n",
       "    }\n",
       "\n",
       "    .dataframe tbody tr th {\n",
       "        vertical-align: top;\n",
       "    }\n",
       "\n",
       "    .dataframe thead th {\n",
       "        text-align: right;\n",
       "    }\n",
       "</style>\n",
       "<table border=\"1\" class=\"dataframe\">\n",
       "  <thead>\n",
       "    <tr style=\"text-align: right;\">\n",
       "      <th></th>\n",
       "      <th>ID</th>\n",
       "      <th>touristic_place_id</th>\n",
       "      <th>fact</th>\n",
       "    </tr>\n",
       "  </thead>\n",
       "  <tbody>\n",
       "    <tr>\n",
       "      <th>0</th>\n",
       "      <td>1</td>\n",
       "      <td>BAR CORDANO</td>\n",
       "      <td>Con más de 114 años de funcionamiento, es el b...</td>\n",
       "    </tr>\n",
       "    <tr>\n",
       "      <th>1</th>\n",
       "      <td>2</td>\n",
       "      <td>BAR CORDANO</td>\n",
       "      <td>El Cordano fue visitado por varios presidentes...</td>\n",
       "    </tr>\n",
       "    <tr>\n",
       "      <th>2</th>\n",
       "      <td>3</td>\n",
       "      <td>BAR CORDANO</td>\n",
       "      <td>Reconocido como Patrimonio Cultural de la Naci...</td>\n",
       "    </tr>\n",
       "    <tr>\n",
       "      <th>3</th>\n",
       "      <td>4</td>\n",
       "      <td>PALACIO DE TORRE TAGLE</td>\n",
       "      <td>Declarado Patrimonio Cultural de la Nación por...</td>\n",
       "    </tr>\n",
       "    <tr>\n",
       "      <th>4</th>\n",
       "      <td>5</td>\n",
       "      <td>PALACIO DE TORRE TAGLE</td>\n",
       "      <td>El Estado Peruano adquirió el edificio colonia...</td>\n",
       "    </tr>\n",
       "  </tbody>\n",
       "</table>\n",
       "</div>"
      ],
      "text/plain": [
       "   ID      touristic_place_id  \\\n",
       "0   1             BAR CORDANO   \n",
       "1   2             BAR CORDANO   \n",
       "2   3             BAR CORDANO   \n",
       "3   4  PALACIO DE TORRE TAGLE   \n",
       "4   5  PALACIO DE TORRE TAGLE   \n",
       "\n",
       "                                                fact  \n",
       "0  Con más de 114 años de funcionamiento, es el b...  \n",
       "1  El Cordano fue visitado por varios presidentes...  \n",
       "2  Reconocido como Patrimonio Cultural de la Naci...  \n",
       "3  Declarado Patrimonio Cultural de la Nación por...  \n",
       "4  El Estado Peruano adquirió el edificio colonia...  "
      ]
     },
     "execution_count": 9,
     "metadata": {},
     "output_type": "execute_result"
    }
   ],
   "source": [
    "fun_facts = pd.read_excel(\"data_prueba/DBPlaces.xlsx\", sheet_name=3)\n",
    "fun_facts.head()"
   ]
  },
  {
   "cell_type": "code",
   "execution_count": 10,
   "metadata": {},
   "outputs": [
    {
     "data": {
      "text/html": [
       "<div>\n",
       "<style scoped>\n",
       "    .dataframe tbody tr th:only-of-type {\n",
       "        vertical-align: middle;\n",
       "    }\n",
       "\n",
       "    .dataframe tbody tr th {\n",
       "        vertical-align: top;\n",
       "    }\n",
       "\n",
       "    .dataframe thead th {\n",
       "        text-align: right;\n",
       "    }\n",
       "</style>\n",
       "<table border=\"1\" class=\"dataframe\">\n",
       "  <thead>\n",
       "    <tr style=\"text-align: right;\">\n",
       "      <th></th>\n",
       "      <th>touristic_place_id</th>\n",
       "      <th>fact</th>\n",
       "    </tr>\n",
       "  </thead>\n",
       "  <tbody>\n",
       "    <tr>\n",
       "      <th>0</th>\n",
       "      <td>BAR CORDANO</td>\n",
       "      <td>Con más de 114 años de funcionamiento, es el b...</td>\n",
       "    </tr>\n",
       "    <tr>\n",
       "      <th>1</th>\n",
       "      <td>BAR CORDANO</td>\n",
       "      <td>El Cordano fue visitado por varios presidentes...</td>\n",
       "    </tr>\n",
       "    <tr>\n",
       "      <th>2</th>\n",
       "      <td>BAR CORDANO</td>\n",
       "      <td>Reconocido como Patrimonio Cultural de la Naci...</td>\n",
       "    </tr>\n",
       "    <tr>\n",
       "      <th>3</th>\n",
       "      <td>PALACIO DE TORRE TAGLE</td>\n",
       "      <td>Declarado Patrimonio Cultural de la Nación por...</td>\n",
       "    </tr>\n",
       "    <tr>\n",
       "      <th>4</th>\n",
       "      <td>PALACIO DE TORRE TAGLE</td>\n",
       "      <td>El Estado Peruano adquirió el edificio colonia...</td>\n",
       "    </tr>\n",
       "  </tbody>\n",
       "</table>\n",
       "</div>"
      ],
      "text/plain": [
       "       touristic_place_id                                               fact\n",
       "0             BAR CORDANO  Con más de 114 años de funcionamiento, es el b...\n",
       "1             BAR CORDANO  El Cordano fue visitado por varios presidentes...\n",
       "2             BAR CORDANO  Reconocido como Patrimonio Cultural de la Naci...\n",
       "3  PALACIO DE TORRE TAGLE  Declarado Patrimonio Cultural de la Nación por...\n",
       "4  PALACIO DE TORRE TAGLE  El Estado Peruano adquirió el edificio colonia..."
      ]
     },
     "execution_count": 10,
     "metadata": {},
     "output_type": "execute_result"
    }
   ],
   "source": [
    "fun_facts = fun_facts.drop(columns=['ID'])\n",
    "fun_facts.head()"
   ]
  },
  {
   "cell_type": "code",
   "execution_count": 14,
   "metadata": {},
   "outputs": [],
   "source": [
    "fun_facts.to_csv('fun_facts.csv',index=False, sep = '|')"
   ]
  },
  {
   "cell_type": "code",
   "execution_count": 15,
   "metadata": {},
   "outputs": [
    {
     "data": {
      "text/html": [
       "<div>\n",
       "<style scoped>\n",
       "    .dataframe tbody tr th:only-of-type {\n",
       "        vertical-align: middle;\n",
       "    }\n",
       "\n",
       "    .dataframe tbody tr th {\n",
       "        vertical-align: top;\n",
       "    }\n",
       "\n",
       "    .dataframe thead th {\n",
       "        text-align: right;\n",
       "    }\n",
       "</style>\n",
       "<table border=\"1\" class=\"dataframe\">\n",
       "  <thead>\n",
       "    <tr style=\"text-align: right;\">\n",
       "      <th></th>\n",
       "      <th>touristic_place_id</th>\n",
       "      <th>fact</th>\n",
       "    </tr>\n",
       "  </thead>\n",
       "  <tbody>\n",
       "    <tr>\n",
       "      <th>0</th>\n",
       "      <td>BAR CORDANO</td>\n",
       "      <td>Con más de 114 años de funcionamiento, es el b...</td>\n",
       "    </tr>\n",
       "    <tr>\n",
       "      <th>1</th>\n",
       "      <td>BAR CORDANO</td>\n",
       "      <td>El Cordano fue visitado por varios presidentes...</td>\n",
       "    </tr>\n",
       "    <tr>\n",
       "      <th>2</th>\n",
       "      <td>BAR CORDANO</td>\n",
       "      <td>Reconocido como Patrimonio Cultural de la Naci...</td>\n",
       "    </tr>\n",
       "    <tr>\n",
       "      <th>3</th>\n",
       "      <td>PALACIO DE TORRE TAGLE</td>\n",
       "      <td>Declarado Patrimonio Cultural de la Nación por...</td>\n",
       "    </tr>\n",
       "    <tr>\n",
       "      <th>4</th>\n",
       "      <td>PALACIO DE TORRE TAGLE</td>\n",
       "      <td>El Estado Peruano adquirió el edificio colonia...</td>\n",
       "    </tr>\n",
       "  </tbody>\n",
       "</table>\n",
       "</div>"
      ],
      "text/plain": [
       "       touristic_place_id                                               fact\n",
       "0             BAR CORDANO  Con más de 114 años de funcionamiento, es el b...\n",
       "1             BAR CORDANO  El Cordano fue visitado por varios presidentes...\n",
       "2             BAR CORDANO  Reconocido como Patrimonio Cultural de la Naci...\n",
       "3  PALACIO DE TORRE TAGLE  Declarado Patrimonio Cultural de la Nación por...\n",
       "4  PALACIO DE TORRE TAGLE  El Estado Peruano adquirió el edificio colonia..."
      ]
     },
     "execution_count": 15,
     "metadata": {},
     "output_type": "execute_result"
    }
   ],
   "source": [
    "aux = pd.read_csv('fun_facts.csv', sep = '|')\n",
    "aux.head()"
   ]
  },
  {
   "cell_type": "markdown",
   "metadata": {},
   "source": [
    "## Automatización para las demás tablas"
   ]
  },
  {
   "cell_type": "code",
   "execution_count": 16,
   "metadata": {},
   "outputs": [],
   "source": [
    "def make_csv(new_name, sheet_number):\n",
    "    \"\"\"\n",
    "    new_name: Nombre del archivo csv donde se guardará la data\n",
    "    sheet_number: Número de la hoja donde está la data\n",
    "    \"\"\"\n",
    "    fun_facts = pd.read_excel(\"data_prueba/DBPlaces.xlsx\", sheet_name= sheet_number)\n",
    "    fun_facts.to_csv(new_name,index=False, sep = '|')"
   ]
  },
  {
   "cell_type": "code",
   "execution_count": 18,
   "metadata": {},
   "outputs": [],
   "source": [
    "make_csv('touristic_place_category.csv', 0)\n",
    "make_csv('touristic_place.csv', 1)"
   ]
  }
 ],
 "metadata": {
  "kernelspec": {
   "display_name": "Python 3",
   "language": "python",
   "name": "python3"
  },
  "language_info": {
   "codemirror_mode": {
    "name": "ipython",
    "version": 3
   },
   "file_extension": ".py",
   "mimetype": "text/x-python",
   "name": "python",
   "nbconvert_exporter": "python",
   "pygments_lexer": "ipython3",
   "version": "3.7.3"
  }
 },
 "nbformat": 4,
 "nbformat_minor": 4
}
